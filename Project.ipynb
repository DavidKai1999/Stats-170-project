{
 "cells": [
  {
   "cell_type": "code",
   "execution_count": 1,
   "id": "e2b1e4f3",
   "metadata": {},
   "outputs": [],
   "source": [
    "import numpy as np\n",
    "import pandas as pd\n",
    "from prediction import *"
   ]
  },
  {
   "cell_type": "markdown",
   "id": "2827b378",
   "metadata": {},
   "source": [
    "# Load data"
   ]
  },
  {
   "cell_type": "markdown",
   "id": "eb1957ab",
   "metadata": {},
   "source": [
    "To make sure this notebook can be run within 1 minute, we use a small sample of length 550 to show how our project predicts the authenticity of the news."
   ]
  },
  {
   "cell_type": "code",
   "execution_count": 2,
   "id": "417213d3",
   "metadata": {},
   "outputs": [],
   "source": [
    "news = pd.read_csv('pred_news.csv',index_col=0)\n",
    "comments = pd.read_csv('pred_comments.csv',index_col=0)"
   ]
  },
  {
   "cell_type": "code",
   "execution_count": 3,
   "id": "b50d31dd",
   "metadata": {},
   "outputs": [
    {
     "data": {
      "text/html": [
       "<div>\n",
       "<style scoped>\n",
       "    .dataframe tbody tr th:only-of-type {\n",
       "        vertical-align: middle;\n",
       "    }\n",
       "\n",
       "    .dataframe tbody tr th {\n",
       "        vertical-align: top;\n",
       "    }\n",
       "\n",
       "    .dataframe thead th {\n",
       "        text-align: right;\n",
       "    }\n",
       "</style>\n",
       "<table border=\"1\" class=\"dataframe\">\n",
       "  <thead>\n",
       "    <tr style=\"text-align: right;\">\n",
       "      <th></th>\n",
       "      <th>title</th>\n",
       "      <th>text</th>\n",
       "      <th>label</th>\n",
       "      <th>author</th>\n",
       "      <th>topic</th>\n",
       "      <th>perception</th>\n",
       "      <th>news_index</th>\n",
       "    </tr>\n",
       "  </thead>\n",
       "  <tbody>\n",
       "    <tr>\n",
       "      <th>0</th>\n",
       "      <td>report donald trump leaves 10000 tip 82 bill</td>\n",
       "      <td>editors note story determined hoax click read ...</td>\n",
       "      <td>0</td>\n",
       "      <td>NaN</td>\n",
       "      <td>13</td>\n",
       "      <td>0.559441</td>\n",
       "      <td>0</td>\n",
       "    </tr>\n",
       "    <tr>\n",
       "      <th>1</th>\n",
       "      <td>largest great white shark ever recorded</td>\n",
       "      <td>jaws quint notes monstrous prey 25 feet long r...</td>\n",
       "      <td>0</td>\n",
       "      <td>NaN</td>\n",
       "      <td>9</td>\n",
       "      <td>0.830583</td>\n",
       "      <td>1</td>\n",
       "    </tr>\n",
       "    <tr>\n",
       "      <th>2</th>\n",
       "      <td>barclays handed biggest bank fine uk history b...</td>\n",
       "      <td>barclays handed biggest uk bank fine history s...</td>\n",
       "      <td>0</td>\n",
       "      <td>NaN</td>\n",
       "      <td>0</td>\n",
       "      <td>0.520255</td>\n",
       "      <td>2</td>\n",
       "    </tr>\n",
       "  </tbody>\n",
       "</table>\n",
       "</div>"
      ],
      "text/plain": [
       "                                               title  \\\n",
       "0       report donald trump leaves 10000 tip 82 bill   \n",
       "1            largest great white shark ever recorded   \n",
       "2  barclays handed biggest bank fine uk history b...   \n",
       "\n",
       "                                                text  label author  topic  \\\n",
       "0  editors note story determined hoax click read ...      0    NaN     13   \n",
       "1  jaws quint notes monstrous prey 25 feet long r...      0    NaN      9   \n",
       "2  barclays handed biggest uk bank fine history s...      0    NaN      0   \n",
       "\n",
       "   perception  news_index  \n",
       "0    0.559441           0  \n",
       "1    0.830583           1  \n",
       "2    0.520255           2  "
      ]
     },
     "execution_count": 3,
     "metadata": {},
     "output_type": "execute_result"
    }
   ],
   "source": [
    "news.head(3)"
   ]
  },
  {
   "cell_type": "code",
   "execution_count": 4,
   "id": "64a11075",
   "metadata": {},
   "outputs": [
    {
     "data": {
      "text/html": [
       "<div>\n",
       "<style scoped>\n",
       "    .dataframe tbody tr th:only-of-type {\n",
       "        vertical-align: middle;\n",
       "    }\n",
       "\n",
       "    .dataframe tbody tr th {\n",
       "        vertical-align: top;\n",
       "    }\n",
       "\n",
       "    .dataframe thead th {\n",
       "        text-align: right;\n",
       "    }\n",
       "</style>\n",
       "<table border=\"1\" class=\"dataframe\">\n",
       "  <thead>\n",
       "    <tr style=\"text-align: right;\">\n",
       "      <th></th>\n",
       "      <th>title</th>\n",
       "      <th>text</th>\n",
       "      <th>label</th>\n",
       "      <th>author</th>\n",
       "      <th>topic</th>\n",
       "      <th>perception</th>\n",
       "      <th>news_index</th>\n",
       "      <th>comment_author</th>\n",
       "      <th>comment_text</th>\n",
       "      <th>comment_score</th>\n",
       "      <th>comment_subreddit</th>\n",
       "      <th>have_comment</th>\n",
       "    </tr>\n",
       "  </thead>\n",
       "  <tbody>\n",
       "    <tr>\n",
       "      <th>0</th>\n",
       "      <td>long could survive coffin buried alive</td>\n",
       "      <td>normal healthy person might 10 minutes hour si...</td>\n",
       "      <td>1</td>\n",
       "      <td>NaN</td>\n",
       "      <td>9</td>\n",
       "      <td>0.751051</td>\n",
       "      <td>25</td>\n",
       "      <td>crackhappy</td>\n",
       "      <td>quick someone tell ryan reynolds</td>\n",
       "      <td>19.0</td>\n",
       "      <td>todayilearned</td>\n",
       "      <td>1</td>\n",
       "    </tr>\n",
       "    <tr>\n",
       "      <th>1</th>\n",
       "      <td>long could survive coffin buried alive</td>\n",
       "      <td>normal healthy person might 10 minutes hour si...</td>\n",
       "      <td>1</td>\n",
       "      <td>NaN</td>\n",
       "      <td>9</td>\n",
       "      <td>0.751051</td>\n",
       "      <td>25</td>\n",
       "      <td>-BigSexy-</td>\n",
       "      <td>makes escape scene kill bill much realistic now</td>\n",
       "      <td>10.0</td>\n",
       "      <td>todayilearned</td>\n",
       "      <td>1</td>\n",
       "    </tr>\n",
       "    <tr>\n",
       "      <th>2</th>\n",
       "      <td>long could survive coffin buried alive</td>\n",
       "      <td>normal healthy person might 10 minutes hour si...</td>\n",
       "      <td>1</td>\n",
       "      <td>NaN</td>\n",
       "      <td>9</td>\n",
       "      <td>0.751051</td>\n",
       "      <td>25</td>\n",
       "      <td>running_uphill</td>\n",
       "      <td>person coffin picture must 4 inches tall since...</td>\n",
       "      <td>2.0</td>\n",
       "      <td>todayilearned</td>\n",
       "      <td>1</td>\n",
       "    </tr>\n",
       "  </tbody>\n",
       "</table>\n",
       "</div>"
      ],
      "text/plain": [
       "                                    title  \\\n",
       "0  long could survive coffin buried alive   \n",
       "1  long could survive coffin buried alive   \n",
       "2  long could survive coffin buried alive   \n",
       "\n",
       "                                                text  label  author  topic  \\\n",
       "0  normal healthy person might 10 minutes hour si...      1     NaN      9   \n",
       "1  normal healthy person might 10 minutes hour si...      1     NaN      9   \n",
       "2  normal healthy person might 10 minutes hour si...      1     NaN      9   \n",
       "\n",
       "   perception  news_index  comment_author  \\\n",
       "0    0.751051          25      crackhappy   \n",
       "1    0.751051          25       -BigSexy-   \n",
       "2    0.751051          25  running_uphill   \n",
       "\n",
       "                                        comment_text  comment_score  \\\n",
       "0                   quick someone tell ryan reynolds           19.0   \n",
       "1    makes escape scene kill bill much realistic now           10.0   \n",
       "2  person coffin picture must 4 inches tall since...            2.0   \n",
       "\n",
       "  comment_subreddit  have_comment  \n",
       "0     todayilearned             1  \n",
       "1     todayilearned             1  \n",
       "2     todayilearned             1  "
      ]
     },
     "execution_count": 4,
     "metadata": {},
     "output_type": "execute_result"
    }
   ],
   "source": [
    "comments.head(3)"
   ]
  },
  {
   "cell_type": "markdown",
   "id": "c3831c10",
   "metadata": {},
   "source": [
    "Since running words embedding would take a long time, we have finished the works for words embedding and saved the results locally. Here we displayed codes for words embedding, where 'embedding_news' is a function in prediction.py. Then, we loaded the results from local files."
   ]
  },
  {
   "cell_type": "code",
   "execution_count": null,
   "id": "b48d4ec9",
   "metadata": {},
   "outputs": [],
   "source": [
    "# Codes for words embedding\n",
    "'''\n",
    "X, Y, dataloader = embedding_news(news)\n",
    "\n",
    "with open(\".\\\\tempfile\\\\pred_data.txt\", \"wb\") as fp:  # Pickling\n",
    "    pickle.dump([X, Y], fp)\n",
    "'''"
   ]
  },
  {
   "cell_type": "code",
   "execution_count": 5,
   "id": "e60d041c",
   "metadata": {},
   "outputs": [],
   "source": [
    "# Load X, Y from local files\n",
    "with open(\".\\\\tempfile\\\\pred_data.txt\", \"rb\") as fp:  # Unpickling\n",
    "    X, Y = pickle.load(fp)\n",
    "    \n",
    "# Scale X to feed to LR and NB models\n",
    "scaler = preprocessing.StandardScaler().fit(X)\n",
    "X_scale = scaler.transform(X)"
   ]
  },
  {
   "cell_type": "markdown",
   "id": "cf6a2de4",
   "metadata": {},
   "source": [
    "In each X, the first 128 values are the embedding result of text and title, the next 5 values are the embedding of author (if the news does not have an author, we add five 0s to the array,) and the last value is the dominant topic label gained from topic modeling."
   ]
  },
  {
   "cell_type": "code",
   "execution_count": 12,
   "id": "78aa8dd1",
   "metadata": {},
   "outputs": [
    {
     "data": {
      "text/plain": [
       "134"
      ]
     },
     "execution_count": 12,
     "metadata": {},
     "output_type": "execute_result"
    }
   ],
   "source": [
    "len(X[0]) # 128 + 5 + 1 = 134"
   ]
  },
  {
   "cell_type": "code",
   "execution_count": 13,
   "id": "7e853909",
   "metadata": {},
   "outputs": [
    {
     "data": {
      "text/plain": [
       "array([  101, 10195,  3602,  2466,  4340, 28520, 11562,  3191,  7172,\n",
       "        2466,  6866,  2285,  1021,  6221,  8398, 10036,  8337,  2618,\n",
       "        3310,  2204,  2326,  2613,  4355,  3686,  9587, 24848,  2187,\n",
       "        6694,  2692,  5955,  6445, 22907,  3021,  6928,  4825,  4203,\n",
       "        9018, 10250, 10128,  4315, 20891, 29566,  2213,  4311, 11562,\n",
       "        2156, 24306,  4315, 20891, 29566,  2213,  5006,  1040, 15610,\n",
       "        6901,  2252,  2288, 11721, 16998, 26302,  2078,  5955,  6221,\n",
       "       27175,  4596,  2326,  4315, 20891, 29566,  2213,  2988,  8398,\n",
       "       11729, 11586,  2098, 24857, 11350,  6178, 14289, 14693, 15460,\n",
       "       18064, 11562,  2156,  2678, 15610,  5221,  5955,  2412,  2288,\n",
       "        8398,  7283,  2356,  5006,  6128,  7987, 12722, 18826,  3310,\n",
       "        2843,  5006,  5838, 11182,  3156,  6694,  4638,  2320,  2204,\n",
       "        3105,  8398,  2409, 15610,  2091,  2239, 24158,  7630,  3600,\n",
       "       15610,  2387,  5955,  8398,  2187,  2903,  2009,  2609,  2988,\n",
       "        2941,  2699,     0,     0,     0,     0,     0,    13])"
      ]
     },
     "execution_count": 13,
     "metadata": {},
     "output_type": "execute_result"
    }
   ],
   "source": [
    "X[0]"
   ]
  },
  {
   "cell_type": "markdown",
   "id": "e2f9d813",
   "metadata": {},
   "source": [
    "Y is a list of 0/1 labels. We convert it into a tensor since we will use Pytorch to run a deep learning model on it."
   ]
  },
  {
   "cell_type": "code",
   "execution_count": 14,
   "id": "8113ff0b",
   "metadata": {},
   "outputs": [
    {
     "data": {
      "text/plain": [
       "tensor([0, 0, 0, 0, 0, 0, 0, 0, 1, 1])"
      ]
     },
     "execution_count": 14,
     "metadata": {},
     "output_type": "execute_result"
    }
   ],
   "source": [
    "Y[:10]"
   ]
  },
  {
   "cell_type": "markdown",
   "id": "35401694",
   "metadata": {},
   "source": [
    "All the classifiers have been trained previously, and the model files were saved locally. Here we load the random forest, naive Bayes, and logistic regression models. \n",
    "\n",
    "The BertForSequenceClassification model is a deep learning model. Using it to predict labels is very time-consuming, even on this small sample. Thus, we have pickled the prediction results of the BFSC model in a local file, too."
   ]
  },
  {
   "cell_type": "code",
   "execution_count": 14,
   "id": "ee791eac",
   "metadata": {},
   "outputs": [
    {
     "name": "stdout",
     "output_type": "stream",
     "text": [
      "\n",
      "Running Validation...\n"
     ]
    }
   ],
   "source": [
    "# Codes for using BFSC to predict labels\n",
    "'''\n",
    "from train_bert import bertpredict_withbatch\n",
    "\n",
    "bertnews = torch.load(save_news_model, map_location=device)\n",
    "bert_pred = bertpredict_withbatch(dataloader, bertnews)\n",
    "\n",
    "with open(\".\\\\tempfile\\\\bert_pred.txt\", \"wb\") as fp:  # Pickling\n",
    "    pickle.dump(bert_pred, fp)\n",
    "'''"
   ]
  },
  {
   "cell_type": "code",
   "execution_count": 15,
   "id": "bacc770d",
   "metadata": {},
   "outputs": [],
   "source": [
    "# Load prediction result of BSFC model from local file\n",
    "with open(\".\\\\tempfile\\\\bert_pred.txt\", \"rb\") as fp:  # Unpickling\n",
    "    bert_pred = pickle.load(fp)\n",
    "    \n",
    "# Load classifiers\n",
    "forest = load(forest_news_model)\n",
    "nb = load(nb_news_model)\n",
    "lr = load(lr_news_model)"
   ]
  },
  {
   "cell_type": "markdown",
   "id": "1a37f2a6",
   "metadata": {},
   "source": [
    "# Prediction and Evaluation"
   ]
  },
  {
   "cell_type": "markdown",
   "id": "c5de9430",
   "metadata": {},
   "source": [
    "Here we use the random forest, naive Bayes, logistic regression to predict the validation set and evaluate their performance."
   ]
  },
  {
   "cell_type": "code",
   "execution_count": 16,
   "id": "7836c0ed",
   "metadata": {},
   "outputs": [
    {
     "name": "stdout",
     "output_type": "stream",
     "text": [
      "bert accuracy 0.4609995537706381\n",
      "bert f1 0.6059185258570444\n",
      "bert confusion matrix [[315 100]\n",
      " [113  22]]\n",
      "\n",
      "forest accuracy 0.9336407377706496\n",
      "forest f1 0.9253087271472922\n",
      "forest confusion matrix [[424  40]\n",
      " [  4  82]]\n",
      "\n",
      "nb accuracy 0.5678077682685978\n",
      "nb f1 0.41022367777150387\n",
      "nb confusion matrix [[129  18]\n",
      " [299 104]]\n",
      "\n",
      "lr accuracy 0.5562083201016196\n",
      "lr f1 0.5116306113369958\n",
      "lr confusion matrix [[224  44]\n",
      " [204  78]]\n",
      "\n"
     ]
    }
   ],
   "source": [
    "forest_pred = forest.predict(X)\n",
    "nb_pred = nb.predict(X_scale)\n",
    "lr_pred = lr.predict(X_scale)\n",
    "\n",
    "binary_eval('bert',bert_pred, Y)\n",
    "binary_eval('forest',forest_pred, Y)\n",
    "binary_eval('nb',nb_pred, Y)\n",
    "binary_eval('lr',lr_pred, Y)"
   ]
  },
  {
   "cell_type": "markdown",
   "id": "ac7f3f5a",
   "metadata": {},
   "source": [
    "\"comments_voting\" is a self-defined function in WMVE.py. It extracts all Reddit comments (if they exist) for each piece of news, then uses the BFSC model to predict labels for all comments. Then, a majority voting (without weight) method will be applied to these predictions to get a voting result as the label of this piece of news. Also, this function will print the performance evaluation of the voting results. \n",
    "\n",
    "Since this step is time-consuming too, we only display the code and the evaluation message in the next chunk. The comment voting result has been saved into a local file so that we can load it directly."
   ]
  },
  {
   "cell_type": "code",
   "execution_count": 4,
   "id": "66e59325",
   "metadata": {},
   "outputs": [
    {
     "name": "stderr",
     "output_type": "stream",
     "text": [
      "Token indices sequence length is longer than the specified maximum sequence length for this model (590 > 512). Running this sequence through the model will result in indexing errors\n"
     ]
    },
    {
     "name": "stdout",
     "output_type": "stream",
     "text": [
      "[1, 0, 0, 0, 0, 0, 1, 0, 0, 1, 0, 0, 1, 0, 1, 1, 0, 0, 0, 0, 0, 0, 0, 1, 0, 1, 1, 0, 0, 1, 0, 0, 0, 0, 1]\n",
      "[1, 0, 0, 0, 0, 1, 1, 0, 0, 1, 0, 0, 1, 1, 1, 0, 0, 0, 0, 0, 0, 0, 0, 0, 0, 1, 0, 0, 0, 1, 0, 1, 1, 1, 1]\n",
      "comment_voting accuracy 0.759469696969697\n",
      "comment_voting f1 0.775983436853002\n",
      "comment_voting confusion matrix [[19  5]\n",
      " [ 3  8]]\n",
      "\n"
     ]
    }
   ],
   "source": [
    "relationship = pd.read_csv('pred_relationship.csv',index_col=0)\n",
    "comment_pred = comments_voting_pred(news,comments,relationship)\n",
    "\n",
    "with open(\".\\\\tempfile\\\\comment_pred.txt\", \"wb\") as fp:  # Pickling\n",
    "    pickle.dump(comment_pred, fp)"
   ]
  },
  {
   "cell_type": "code",
   "execution_count": 17,
   "id": "f79a7ab8",
   "metadata": {},
   "outputs": [],
   "source": [
    "# Load the commont voting result\n",
    "with open(\".\\\\tempfile\\\\comment_pred.txt\", \"rb\") as fp:  # Pickling\n",
    "    comment_pred = pickle.load(fp)"
   ]
  },
  {
   "cell_type": "markdown",
   "id": "7d0faba8",
   "metadata": {},
   "source": [
    "The voting weights were calculated with the voting testing set as we introduced in our final report. Here we load and display the voting weights we calculated previously."
   ]
  },
  {
   "cell_type": "code",
   "execution_count": 18,
   "id": "33712eac",
   "metadata": {},
   "outputs": [
    {
     "data": {
      "text/html": [
       "<div>\n",
       "<style scoped>\n",
       "    .dataframe tbody tr th:only-of-type {\n",
       "        vertical-align: middle;\n",
       "    }\n",
       "\n",
       "    .dataframe tbody tr th {\n",
       "        vertical-align: top;\n",
       "    }\n",
       "\n",
       "    .dataframe thead th {\n",
       "        text-align: right;\n",
       "    }\n",
       "</style>\n",
       "<table border=\"1\" class=\"dataframe\">\n",
       "  <thead>\n",
       "    <tr style=\"text-align: right;\">\n",
       "      <th></th>\n",
       "      <th>Type</th>\n",
       "      <th>BertForSequenceClassification</th>\n",
       "      <th>Random Forest</th>\n",
       "      <th>Logistic Regression</th>\n",
       "      <th>Naive Bayes</th>\n",
       "      <th>Comment Voting</th>\n",
       "      <th>Total</th>\n",
       "    </tr>\n",
       "  </thead>\n",
       "  <tbody>\n",
       "    <tr>\n",
       "      <th>0</th>\n",
       "      <td>Weights for News Without Comments</td>\n",
       "      <td>0.249231</td>\n",
       "      <td>0.350231</td>\n",
       "      <td>0.202418</td>\n",
       "      <td>0.198120</td>\n",
       "      <td>NaN</td>\n",
       "      <td>1.0</td>\n",
       "    </tr>\n",
       "    <tr>\n",
       "      <th>1</th>\n",
       "      <td>Weights for News With Comments</td>\n",
       "      <td>0.190105</td>\n",
       "      <td>0.254369</td>\n",
       "      <td>0.155149</td>\n",
       "      <td>0.146276</td>\n",
       "      <td>0.254101</td>\n",
       "      <td>1.0</td>\n",
       "    </tr>\n",
       "  </tbody>\n",
       "</table>\n",
       "</div>"
      ],
      "text/plain": [
       "                                Type  BertForSequenceClassification  \\\n",
       "0  Weights for News Without Comments                       0.249231   \n",
       "1     Weights for News With Comments                       0.190105   \n",
       "\n",
       "   Random Forest  Logistic Regression  Naive Bayes  Comment Voting  Total  \n",
       "0       0.350231             0.202418     0.198120             NaN    1.0  \n",
       "1       0.254369             0.155149     0.146276        0.254101    1.0  "
      ]
     },
     "execution_count": 18,
     "metadata": {},
     "output_type": "execute_result"
    }
   ],
   "source": [
    "# Load the voting weights\n",
    "with open(\".\\\\tempfile\\\\voting_weight.txt\", \"rb\") as fp:  # Unpickling\n",
    "    weight = pickle.load(fp) \n",
    "    \n",
    "weight[0].append(None)\n",
    "\n",
    "bert_weight = [weight[0][0],weight[1][0]]\n",
    "forest_weight = [weight[0][1],weight[1][1]]\n",
    "lr_weight = [weight[0][2],weight[1][2]]\n",
    "nb_weight = [weight[0][3],weight[1][3]]\n",
    "comment_weight = [weight[0][4],weight[1][4]]\n",
    "total = [sum([weight[0][0],weight[0][1],weight[0][2],weight[0][3]]),\n",
    "        sum([weight[1][0],weight[1][1],weight[1][2],weight[1][3],weight[1][4]])]\n",
    "name = ['Weights for News Without Comments','Weights for News With Comments']\n",
    "\n",
    "pd.DataFrame({'Type':name,\n",
    "              'BertForSequenceClassification':bert_weight,\n",
    "              'Random Forest':forest_weight,\n",
    "             'Logistic Regression':lr_weight,\n",
    "             'Naive Bayes':nb_weight,\n",
    "             'Comment Voting':comment_weight,\n",
    "             'Total':total})"
   ]
  },
  {
   "cell_type": "markdown",
   "id": "077fbf68",
   "metadata": {},
   "source": [
    "\"WMVEpredict\" is a self-defined function in WMVE.py. It take all predictions from our classifiers and the voting weights to do weighted majority voting."
   ]
  },
  {
   "cell_type": "code",
   "execution_count": 27,
   "id": "6f140636",
   "metadata": {},
   "outputs": [
    {
     "name": "stdout",
     "output_type": "stream",
     "text": [
      "voting_val accuracy 0.7685077519379846\n",
      "voting_val f1 0.8404746768383132\n",
      "voting_val confusion matrix [[385  45]\n",
      " [ 43  77]]\n",
      "\n"
     ]
    }
   ],
   "source": [
    "# Combine all predictions to feed to the weighted voting model\n",
    "classfiers_pred = pd.DataFrame({'bert': bert_pred,\n",
    "                                      'forest': forest_pred,\n",
    "                                      'nb': nb_pred,\n",
    "                                      'lr': lr_pred,\n",
    "                                      'comment':comment_pred})\n",
    "\n",
    "\n",
    "voting_pred, prob = WMVEpredict(weight, classfiers_pred,use_softmax=False,final=True)\n",
    "\n",
    "binary_eval('voting_val', voting_pred, Y)"
   ]
  },
  {
   "cell_type": "markdown",
   "id": "7c5e4918",
   "metadata": {},
   "source": [
    "Here we show the news data frame with the prediction labels from all models. NaN in comment_pred column means that the news does not have any comment."
   ]
  },
  {
   "cell_type": "code",
   "execution_count": 21,
   "id": "d0348336",
   "metadata": {
    "scrolled": true
   },
   "outputs": [
    {
     "data": {
      "text/html": [
       "<div>\n",
       "<style scoped>\n",
       "    .dataframe tbody tr th:only-of-type {\n",
       "        vertical-align: middle;\n",
       "    }\n",
       "\n",
       "    .dataframe tbody tr th {\n",
       "        vertical-align: top;\n",
       "    }\n",
       "\n",
       "    .dataframe thead th {\n",
       "        text-align: right;\n",
       "    }\n",
       "</style>\n",
       "<table border=\"1\" class=\"dataframe\">\n",
       "  <thead>\n",
       "    <tr style=\"text-align: right;\">\n",
       "      <th></th>\n",
       "      <th>title</th>\n",
       "      <th>text</th>\n",
       "      <th>author</th>\n",
       "      <th>topic</th>\n",
       "      <th>label</th>\n",
       "      <th>bert_pred</th>\n",
       "      <th>forest_pred</th>\n",
       "      <th>nb_pred</th>\n",
       "      <th>lr_pred</th>\n",
       "      <th>comment_pred</th>\n",
       "      <th>voting_pred</th>\n",
       "    </tr>\n",
       "  </thead>\n",
       "  <tbody>\n",
       "    <tr>\n",
       "      <th>0</th>\n",
       "      <td>report donald trump leaves 10000 tip 82 bill</td>\n",
       "      <td>editors note story determined hoax click read ...</td>\n",
       "      <td>NaN</td>\n",
       "      <td>13</td>\n",
       "      <td>0</td>\n",
       "      <td>0</td>\n",
       "      <td>0</td>\n",
       "      <td>1</td>\n",
       "      <td>1</td>\n",
       "      <td>NaN</td>\n",
       "      <td>0</td>\n",
       "    </tr>\n",
       "    <tr>\n",
       "      <th>1</th>\n",
       "      <td>largest great white shark ever recorded</td>\n",
       "      <td>jaws quint notes monstrous prey 25 feet long r...</td>\n",
       "      <td>NaN</td>\n",
       "      <td>9</td>\n",
       "      <td>0</td>\n",
       "      <td>1</td>\n",
       "      <td>0</td>\n",
       "      <td>1</td>\n",
       "      <td>0</td>\n",
       "      <td>NaN</td>\n",
       "      <td>0</td>\n",
       "    </tr>\n",
       "    <tr>\n",
       "      <th>2</th>\n",
       "      <td>barclays handed biggest bank fine uk history b...</td>\n",
       "      <td>barclays handed biggest uk bank fine history s...</td>\n",
       "      <td>NaN</td>\n",
       "      <td>0</td>\n",
       "      <td>0</td>\n",
       "      <td>1</td>\n",
       "      <td>0</td>\n",
       "      <td>0</td>\n",
       "      <td>0</td>\n",
       "      <td>NaN</td>\n",
       "      <td>0</td>\n",
       "    </tr>\n",
       "    <tr>\n",
       "      <th>3</th>\n",
       "      <td>10 things school obsolete</td>\n",
       "      <td>3 teachercentered classroom classrooms designe...</td>\n",
       "      <td>NaN</td>\n",
       "      <td>0</td>\n",
       "      <td>0</td>\n",
       "      <td>0</td>\n",
       "      <td>0</td>\n",
       "      <td>1</td>\n",
       "      <td>0</td>\n",
       "      <td>NaN</td>\n",
       "      <td>0</td>\n",
       "    </tr>\n",
       "    <tr>\n",
       "      <th>4</th>\n",
       "      <td>country singer shot dead nashville bar</td>\n",
       "      <td>country music singer shot dead inside tennesse...</td>\n",
       "      <td>NaN</td>\n",
       "      <td>4</td>\n",
       "      <td>0</td>\n",
       "      <td>0</td>\n",
       "      <td>0</td>\n",
       "      <td>1</td>\n",
       "      <td>0</td>\n",
       "      <td>NaN</td>\n",
       "      <td>0</td>\n",
       "    </tr>\n",
       "  </tbody>\n",
       "</table>\n",
       "</div>"
      ],
      "text/plain": [
       "                                               title  \\\n",
       "0       report donald trump leaves 10000 tip 82 bill   \n",
       "1            largest great white shark ever recorded   \n",
       "2  barclays handed biggest bank fine uk history b...   \n",
       "3                          10 things school obsolete   \n",
       "4             country singer shot dead nashville bar   \n",
       "\n",
       "                                                text author  topic  label  \\\n",
       "0  editors note story determined hoax click read ...    NaN     13      0   \n",
       "1  jaws quint notes monstrous prey 25 feet long r...    NaN      9      0   \n",
       "2  barclays handed biggest uk bank fine history s...    NaN      0      0   \n",
       "3  3 teachercentered classroom classrooms designe...    NaN      0      0   \n",
       "4  country music singer shot dead inside tennesse...    NaN      4      0   \n",
       "\n",
       "   bert_pred  forest_pred  nb_pred  lr_pred  comment_pred  voting_pred  \n",
       "0          0            0        1        1           NaN            0  \n",
       "1          1            0        1        0           NaN            0  \n",
       "2          1            0        0        0           NaN            0  \n",
       "3          0            0        1        0           NaN            0  \n",
       "4          0            0        1        0           NaN            0  "
      ]
     },
     "execution_count": 21,
     "metadata": {},
     "output_type": "execute_result"
    }
   ],
   "source": [
    "result_df = news[['title','text','author','topic','label']].assign(bert_pred = bert_pred,\n",
    "                                                       forest_pred = forest_pred,\n",
    "                                                       nb_pred = nb_pred,\n",
    "                                                       lr_pred = lr_pred,\n",
    "                                                       comment_pred = list(map(lambda x: np.nan if x==2 else x, comment_pred)),\n",
    "                                                       voting_pred = voting_pred)\n",
    "\n",
    "result_df.head(5)"
   ]
  },
  {
   "cell_type": "code",
   "execution_count": 67,
   "id": "09d22d7d",
   "metadata": {},
   "outputs": [
    {
     "data": {
      "text/html": [
       "<div>\n",
       "<style scoped>\n",
       "    .dataframe tbody tr th:only-of-type {\n",
       "        vertical-align: middle;\n",
       "    }\n",
       "\n",
       "    .dataframe tbody tr th {\n",
       "        vertical-align: top;\n",
       "    }\n",
       "\n",
       "    .dataframe thead th {\n",
       "        text-align: right;\n",
       "    }\n",
       "</style>\n",
       "<table border=\"1\" class=\"dataframe\">\n",
       "  <thead>\n",
       "    <tr style=\"text-align: right;\">\n",
       "      <th></th>\n",
       "      <th>title</th>\n",
       "      <th>text</th>\n",
       "      <th>author</th>\n",
       "      <th>topic</th>\n",
       "      <th>label</th>\n",
       "      <th>bert_pred</th>\n",
       "      <th>forest_pred</th>\n",
       "      <th>nb_pred</th>\n",
       "      <th>lr_pred</th>\n",
       "      <th>comment_pred</th>\n",
       "      <th>voting_pred</th>\n",
       "    </tr>\n",
       "  </thead>\n",
       "  <tbody>\n",
       "    <tr>\n",
       "      <th>25</th>\n",
       "      <td>long could survive coffin buried alive</td>\n",
       "      <td>normal healthy person might 10 minutes hour si...</td>\n",
       "      <td>NaN</td>\n",
       "      <td>9</td>\n",
       "      <td>1</td>\n",
       "      <td>0</td>\n",
       "      <td>1</td>\n",
       "      <td>1</td>\n",
       "      <td>1</td>\n",
       "      <td>1.0</td>\n",
       "      <td>1</td>\n",
       "    </tr>\n",
       "    <tr>\n",
       "      <th>37</th>\n",
       "      <td>exit polls work whether trust</td>\n",
       "      <td>frustrating thing election day one actually in...</td>\n",
       "      <td>NaN</td>\n",
       "      <td>12</td>\n",
       "      <td>0</td>\n",
       "      <td>0</td>\n",
       "      <td>0</td>\n",
       "      <td>1</td>\n",
       "      <td>1</td>\n",
       "      <td>0.0</td>\n",
       "      <td>0</td>\n",
       "    </tr>\n",
       "    <tr>\n",
       "      <th>39</th>\n",
       "      <td>refugees find hostility hope soccer field</td>\n",
       "      <td>fugees indeed refugees troubled corners afghan...</td>\n",
       "      <td>NaN</td>\n",
       "      <td>14</td>\n",
       "      <td>0</td>\n",
       "      <td>1</td>\n",
       "      <td>0</td>\n",
       "      <td>1</td>\n",
       "      <td>0</td>\n",
       "      <td>0.0</td>\n",
       "      <td>0</td>\n",
       "    </tr>\n",
       "    <tr>\n",
       "      <th>49</th>\n",
       "      <td>steal book abbie hoffman</td>\n",
       "      <td>dedicated jerry lefcourt lawyer brother librar...</td>\n",
       "      <td>NaN</td>\n",
       "      <td>9</td>\n",
       "      <td>0</td>\n",
       "      <td>1</td>\n",
       "      <td>0</td>\n",
       "      <td>1</td>\n",
       "      <td>1</td>\n",
       "      <td>0.0</td>\n",
       "      <td>0</td>\n",
       "    </tr>\n",
       "    <tr>\n",
       "      <th>85</th>\n",
       "      <td>hillary clinton president</td>\n",
       "      <td>2016 campaign brought surface despair rage poo...</td>\n",
       "      <td>NaN</td>\n",
       "      <td>7</td>\n",
       "      <td>0</td>\n",
       "      <td>1</td>\n",
       "      <td>0</td>\n",
       "      <td>1</td>\n",
       "      <td>0</td>\n",
       "      <td>0.0</td>\n",
       "      <td>0</td>\n",
       "    </tr>\n",
       "  </tbody>\n",
       "</table>\n",
       "</div>"
      ],
      "text/plain": [
       "                                        title  \\\n",
       "25     long could survive coffin buried alive   \n",
       "37              exit polls work whether trust   \n",
       "39  refugees find hostility hope soccer field   \n",
       "49                   steal book abbie hoffman   \n",
       "85                  hillary clinton president   \n",
       "\n",
       "                                                 text author  topic  label  \\\n",
       "25  normal healthy person might 10 minutes hour si...    NaN      9      1   \n",
       "37  frustrating thing election day one actually in...    NaN     12      0   \n",
       "39  fugees indeed refugees troubled corners afghan...    NaN     14      0   \n",
       "49  dedicated jerry lefcourt lawyer brother librar...    NaN      9      0   \n",
       "85  2016 campaign brought surface despair rage poo...    NaN      7      0   \n",
       "\n",
       "    bert_pred  forest_pred  nb_pred  lr_pred  comment_pred  voting_pred  \n",
       "25          0            1        1        1           1.0            1  \n",
       "37          0            0        1        1           0.0            0  \n",
       "39          1            0        1        0           0.0            0  \n",
       "49          1            0        1        1           0.0            0  \n",
       "85          1            0        1        0           0.0            0  "
      ]
     },
     "execution_count": 67,
     "metadata": {},
     "output_type": "execute_result"
    }
   ],
   "source": [
    "result_df[pd.isna(result_df['comment_pred'])==False].head(5)"
   ]
  }
 ],
 "metadata": {
  "kernelspec": {
   "display_name": "Python 3",
   "language": "python",
   "name": "python3"
  },
  "language_info": {
   "codemirror_mode": {
    "name": "ipython",
    "version": 3
   },
   "file_extension": ".py",
   "mimetype": "text/x-python",
   "name": "python",
   "nbconvert_exporter": "python",
   "pygments_lexer": "ipython3",
   "version": "3.7.10"
  }
 },
 "nbformat": 4,
 "nbformat_minor": 5
}
