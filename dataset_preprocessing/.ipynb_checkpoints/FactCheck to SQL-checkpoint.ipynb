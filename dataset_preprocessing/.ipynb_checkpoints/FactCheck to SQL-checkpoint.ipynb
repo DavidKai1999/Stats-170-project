    "\n",
    "import pickle\n",
    "import codecs\n",
    "\n",
    "test = df.datafeedelement[0]\n",
    "pickle.loads(codecs.decode(test.encode(),'base64'))"
   ]
  }
 ],
 "metadata": {
  "kernelspec": {
   "display_name": "Python 3",
   "language": "python",
   "name": "python3"
  },
  "language_info": {
   "codemirror_mode": {
    "name": "ipython",
    "version": 3
   },
   "file_extension": ".py",
   "mimetype": "text/x-python",
   "name": "python",
   "nbconvert_exporter": "python",
   "pygments_lexer": "ipython3",
   "version": "3.7.6"
  }
 },
 "nbformat": 4,
 "nbformat_minor": 4
}
