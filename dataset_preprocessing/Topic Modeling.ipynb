{
 "cells": [
  {
   "cell_type": "code",
   "execution_count": 16,
   "metadata": {},
   "outputs": [],
   "source": [
    "import pandas as pd\n",
    "import numpy as np\n",
    "import re\n",
    "import matplotlib.pyplot as plt\n",
    "\n",
    "# Gensim\n",
    "import gensim, spacy, logging, warnings\n",
    "import gensim.corpora as corpora\n",
    "from gensim.utils import simple_preprocess\n",
    "from gensim.models import CoherenceModel"
   ]
  },
  {
   "cell_type": "markdown",
   "metadata": {},
   "source": [
    "# Import Data"
   ]
  },
  {
   "cell_type": "code",
   "execution_count": 2,
   "metadata": {},
   "outputs": [],
   "source": [
    "# File Path\n",
    "fakenews_path = (\"FactCheckData_clean_mini.json\")\n",
    "redditcomment_path = (\"C:\\\\Users\\\\gyiko\\\\OneDrive - personalmicrosoftsoftware.uci.edu\\\\STATS\\\\STATS 170AB\\\\Project\\\\datasets\\\\fake_news_reddit_cikm20.json\")"
   ]
  },
  {
   "cell_type": "code",
   "execution_count": 7,
   "metadata": {},
   "outputs": [],
   "source": [
    "# Fact Check Data\n",
    "fakenews = pd.read_json(fakenews_path)\n",
    "en_news = fakenews[fakenews['language']=='en'].reset_index(drop=True)\n",
    "\n",
    "# Reddit Comments Data\n",
    "reddit_data = pd.read_json(redditcomment_path)"
   ]
  },
  {
   "cell_type": "code",
   "execution_count": 8,
   "metadata": {},
   "outputs": [],
   "source": [
    "df = en_news.drop(columns=['author_type','url','rating_type','rating','dataFeedElement','language'])\n",
    "#df = reddit_data.drop(columns=['label','reddit_comments','researched_by','url'])"
   ]
  },
  {
   "cell_type": "code",
   "execution_count": 9,
   "metadata": {},
   "outputs": [
    {
     "data": {
      "text/plain": [
       "3918"
      ]
     },
     "execution_count": 9,
     "metadata": {},
     "output_type": "execute_result"
    }
   ],
   "source": [
    "len(df.text.values.tolist())"
   ]
  },
  {
   "cell_type": "markdown",
   "metadata": {},
   "source": [
    "# Tokenization"
   ]
  },
  {
   "cell_type": "code",
   "execution_count": 17,
   "metadata": {},
   "outputs": [],
   "source": [
    "# NLTK Stop words\n",
    "from nltk.corpus import stopwords\n",
    "stop_words = stopwords.words('english')\n",
    "stop_words.extend(['from', 'subject', 're', 'edu', 'use', 'not', 'would', 'say', 'said', 'claim', 'http', 'could', '_', 'be', 'know', 'good', 'go', 'get', 'do', 'done', 'try', 'many', 'some', 'nice', 'thank', 'think', 'see', 'rather', 'easy', 'easily', 'lot', 'lack', 'make', 'want', 'seem', 'run', 'need', 'even', 'right', 'line', 'even', 'also', 'may', 'take', 'come'])\n",
    "\n",
    "%matplotlib inline\n",
    "warnings.filterwarnings(\"ignore\",category=DeprecationWarning)\n",
    "logging.basicConfig(format='%(asctime)s : %(levelname)s : %(message)s', level=logging.ERROR)"
   ]
  },
  {
   "cell_type": "code",
   "execution_count": 14,
   "metadata": {},
   "outputs": [],
   "source": [
    "def sent_to_words(sentences):\n",
    "    for sent in sentences:\n",
    "        sent = re.sub('\\S*@\\S*\\s?', '', sent)  # remove emails\n",
    "        sent = re.sub('\\s+', ' ', sent)  # remove newline chars\n",
    "        sent = re.sub(\"\\'\", \"\", sent)  # remove single quotes\n",
    "        sent = gensim.utils.simple_preprocess(str(sent), deacc=True) \n",
    "        yield(sent)  \n",
    "\n",
    "# Convert to list\n",
    "data = df.text.values.tolist()\n",
    "data_words = list(sent_to_words(data))"
   ]
  },
  {
   "cell_type": "markdown",
   "metadata": {},
   "source": [
    "## POS"
   ]
  },
  {
   "cell_type": "markdown",
   "metadata": {},
   "source": [
    "Keep only the POS tags since these words contribute most to sentence meaning.\n",
    "\n",
    "Run the following command in terminal first:\n",
    "\n",
    "    -m spacy download en_core_web_sm"
   ]
  },
  {
   "cell_type": "code",
   "execution_count": 18,
   "metadata": {},
   "outputs": [],
   "source": [
    "# Build the bigram and trigram models\n",
    "bigram = gensim.models.Phrases(data_words, min_count=5, threshold=100) # higher threshold fewer phrases.\n",
    "trigram = gensim.models.Phrases(bigram[data_words], threshold=100)  \n",
    "bigram_mod = gensim.models.phrases.Phraser(bigram)\n",
    "trigram_mod = gensim.models.phrases.Phraser(trigram)\n",
    "\n",
    "\n",
    "def process_words(texts, stop_words=stop_words, allowed_postags=['NOUN', 'ADJ', 'VERB', 'ADV']):\n",
    "    \"\"\"Remove Stopwords, Form Bigrams, Trigrams and Lemmatization\"\"\"\n",
    "    texts = [[word for word in simple_preprocess(str(doc)) if word not in stop_words] for doc in texts]\n",
    "    texts = [bigram_mod[doc] for doc in texts]\n",
    "    texts = [trigram_mod[bigram_mod[doc]] for doc in texts]\n",
    "    texts_out = []\n",
    "    nlp = spacy.load('en_core_web_sm', disable=['parser', 'ner'])\n",
    "    for sent in texts:\n",
    "        doc = nlp(\" \".join(sent)) \n",
    "        texts_out.append([token.lemma_ for token in doc if token.pos_ in allowed_postags])\n",
    "    # remove stopwords once more after lemmatization\n",
    "    texts_out = [[word for word in simple_preprocess(str(doc)) if word not in stop_words] for doc in texts_out]    \n",
    "    return texts_out\n",
    "\n",
    "data_ready = process_words(data_words)"
   ]
  },
  {
   "cell_type": "markdown",
   "metadata": {},
   "source": [
    "# LDA"
   ]
  },
  {
   "cell_type": "code",
   "execution_count": 19,
   "metadata": {
    "scrolled": true
   },
   "outputs": [],
   "source": [
    "# Create Dictionary\n",
    "id2word = corpora.Dictionary(data_ready)\n",
    "\n",
    "# Term Document Frequency\n",
    "corpus = [id2word.doc2bow(text) for text in data_ready]"
   ]
  },
  {
   "cell_type": "code",
   "execution_count": 20,
   "metadata": {},
   "outputs": [],
   "source": [
    "num_topics = 9\n",
    "\n",
    "# Build LDA model\n",
    "lda_model = gensim.models.ldamodel.LdaModel(corpus=corpus,\n",
    "                                           id2word=id2word,\n",
    "                                           num_topics=num_topics, \n",
    "                                           random_state=100,\n",
    "                                           update_every=1,\n",
    "                                           chunksize=10,\n",
    "                                           passes=10,\n",
    "                                           alpha='symmetric',\n",
    "                                           iterations=100,\n",
    "                                           per_word_topics=True)"
   ]
  },
  {
   "cell_type": "code",
   "execution_count": 21,
   "metadata": {},
   "outputs": [
    {
     "data": {
      "text/plain": [
       "[(0,\n",
       "  '0.052*\"rape\" + 0.039*\"name\" + 0.036*\"work\" + 0.034*\"delhi\" + 0.032*\"pay\" + 0.028*\"kill\" + 0.016*\"death\" + 0.015*\"front\" + 0.014*\"system\" + 0.014*\"become\"'),\n",
       " (1,\n",
       "  '0.098*\"jnu\" + 0.030*\"child\" + 0.025*\"tamil_nadu\" + 0.025*\"baby\" + 0.021*\"arrest\" + 0.020*\"help\" + 0.019*\"comment\" + 0.019*\"hostel\" + 0.018*\"burn\" + 0.017*\"ireland\"'),\n",
       " (2,\n",
       "  '0.064*\"india\" + 0.055*\"show\" + 0.042*\"viral\" + 0.031*\"give\" + 0.017*\"party\" + 0.017*\"railway_station\" + 0.014*\"fact\" + 0.014*\"criminal\" + 0.014*\"medicine\" + 0.012*\"start\"'),\n",
       " (3,\n",
       "  '0.049*\"people\" + 0.021*\"political\" + 0.020*\"die\" + 0.018*\"dead\" + 0.018*\"body\" + 0.017*\"call\" + 0.017*\"cancer\" + 0.015*\"saudi\" + 0.014*\"govt\" + 0.014*\"deny\"'),\n",
       " (4,\n",
       "  '0.101*\"police\" + 0.033*\"support\" + 0.026*\"officer\" + 0.022*\"law\" + 0.019*\"bjp\" + 0.018*\"fire\" + 0.017*\"new\" + 0.015*\"injure\" + 0.015*\"beat\" + 0.014*\"pass\"'),\n",
       " (5,\n",
       "  '0.025*\"temple\" + 0.023*\"raja\" + 0.022*\"photo\" + 0.020*\"day\" + 0.019*\"high\" + 0.019*\"hindu\" + 0.019*\"put\" + 0.019*\"recent\" + 0.018*\"case\" + 0.017*\"government\"'),\n",
       " (6,\n",
       "  '0.116*\"student\" + 0.021*\"vehicle\" + 0.019*\"university\" + 0.018*\"school\" + 0.016*\"governor\" + 0.015*\"offer\" + 0.014*\"youth\" + 0.013*\"leader\" + 0.012*\"public\" + 0.012*\"life\"'),\n",
       " (7,\n",
       "  '0.064*\"protest\" + 0.050*\"woman\" + 0.047*\"muslim\" + 0.042*\"video\" + 0.025*\"fee\" + 0.025*\"old\" + 0.024*\"hyderabad\" + 0.024*\"man\" + 0.023*\"caa\" + 0.021*\"nrc\"'),\n",
       " (8,\n",
       "  '0.061*\"image\" + 0.044*\"year\" + 0.038*\"find\" + 0.036*\"picture\" + 0.031*\"president\" + 0.022*\"assam\" + 0.020*\"statue\" + 0.019*\"accuse\" + 0.018*\"ukraine\" + 0.017*\"hotel\"')]"
      ]
     },
     "execution_count": 21,
     "metadata": {},
     "output_type": "execute_result"
    }
   ],
   "source": [
    "lda_model.print_topics()"
   ]
  },
  {
   "cell_type": "markdown",
   "metadata": {},
   "source": [
    "# Visualization"
   ]
  },
  {
   "cell_type": "code",
   "execution_count": 22,
   "metadata": {},
   "outputs": [
    {
     "data": {
      "image/png": "[encoded data removed]",
      "text/plain": [
       "<Figure size 792x792 with 9 Axes>"
      ]
     },
     "metadata": {
      "needs_background": "light"
     },
     "output_type": "display_data"
    }
   ],
   "source": [
    "from matplotlib import pyplot as plt\n",
    "from wordcloud import WordCloud, STOPWORDS\n",
    "import matplotlib.colors as mcolors\n",
    "\n",
    "cols = [color for name, color in mcolors.TABLEAU_COLORS.items()]  # more colors: 'mcolors.XKCD_COLORS'\n",
    "\n",
    "cloud = WordCloud(stopwords=stop_words,\n",
    "                  background_color='white',\n",
    "                  width=2500,\n",
    "                  height=1800,\n",
    "                  max_words=15,\n",
    "                  colormap='tab10',\n",
    "                  color_func=lambda *args, **kwargs: cols[i],\n",
    "                  prefer_horizontal=1.0)\n",
    "\n",
    "topics = lda_model.show_topics(formatted=False)\n",
    "\n",
    "fig, axes = plt.subplots(3, 3, figsize=(11,11), sharex=True, sharey=True)\n",
    "\n",
    "for i, ax in enumerate(axes.flatten()):\n",
    "    fig.add_subplot(ax)\n",
    "    topic_words = dict(topics[i][1])\n",
    "    cloud.generate_from_frequencies(topic_words, max_font_size=300)\n",
    "    plt.gca().imshow(cloud)\n",
    "    plt.gca().set_title('Topic ' + str(i), fontdict=dict(size=16))\n",
    "    plt.gca().axis('off')\n",
    "\n",
    "plt.subplots_adjust(wspace=0, hspace=0)\n",
    "plt.axis('off')\n",
    "plt.margins(x=0, y=0)\n",
    "plt.suptitle('Wordcloud of Top 10 words in Each Topic',size=28)\n",
    "plt.show()"
   ]
  },
  {
   "cell_type": "markdown",
   "metadata": {},
   "source": [
    "# Topic Assignment"
   ]
  },
  {
   "cell_type": "code",
   "execution_count": 24,
   "metadata": {},
   "outputs": [
    {
     "data": {
      "text/html": [
       "<div>\n",
       "<style scoped>\n",
       "    .dataframe tbody tr th:only-of-type {\n",
       "        vertical-align: middle;\n",
       "    }\n",
       "\n",
       "    .dataframe tbody tr th {\n",
       "        vertical-align: top;\n",
       "    }\n",
       "\n",
       "    .dataframe thead th {\n",
       "        text-align: right;\n",
       "    }\n",
       "</style>\n",
       "<table border=\"1\" class=\"dataframe\">\n",
       "  <thead>\n",
       "    <tr style=\"text-align: right;\">\n",
       "      <th></th>\n",
       "      <th>text</th>\n",
       "      <th>date</th>\n",
       "      <th>author_type</th>\n",
       "      <th>author</th>\n",
       "      <th>url</th>\n",
       "      <th>rating_type</th>\n",
       "      <th>rating</th>\n",
       "      <th>dataFeedElement</th>\n",
       "      <th>language</th>\n",
       "      <th>Dominant_Topic</th>\n",
       "      <th>Topic_Perception</th>\n",
       "    </tr>\n",
       "  </thead>\n",
       "  <tbody>\n",
       "    <tr>\n",
       "      <th>0</th>\n",
       "      <td>Valenzuela City is part of Bulacan province.</td>\n",
       "      <td>2021-03-12</td>\n",
       "      <td>Organization</td>\n",
       "      <td>Vera Files</td>\n",
       "      <td>https://verafiles.org/</td>\n",
       "      <td>Rating</td>\n",
       "      <td>False</td>\n",
       "      <td>{'@type': 'DataFeedItem', 'dateCreated': '2021...</td>\n",
       "      <td>en</td>\n",
       "      <td>1</td>\n",
       "      <td>0.398782</td>\n",
       "    </tr>\n",
       "    <tr>\n",
       "      <th>1</th>\n",
       "      <td>Returning overseas Filipino workers (OFWs) and...</td>\n",
       "      <td>2021-03-12</td>\n",
       "      <td>Organization</td>\n",
       "      <td>Vera Files</td>\n",
       "      <td>https://verafiles.org/</td>\n",
       "      <td>Rating</td>\n",
       "      <td>Misleading</td>\n",
       "      <td>{'@type': 'DataFeedItem', 'dateCreated': '2021...</td>\n",
       "      <td>en</td>\n",
       "      <td>3</td>\n",
       "      <td>0.485245</td>\n",
       "    </tr>\n",
       "    <tr>\n",
       "      <th>2</th>\n",
       "      <td>A photo shows a vehicle driving through war-to...</td>\n",
       "      <td>2021-03-12</td>\n",
       "      <td>Organization</td>\n",
       "      <td>Vera Files</td>\n",
       "      <td>https://verafiles.org/</td>\n",
       "      <td>Rating</td>\n",
       "      <td>False</td>\n",
       "      <td>{'@type': 'DataFeedItem', 'dateCreated': '2021...</td>\n",
       "      <td>en</td>\n",
       "      <td>7</td>\n",
       "      <td>0.299072</td>\n",
       "    </tr>\n",
       "    <tr>\n",
       "      <th>3</th>\n",
       "      <td>Photo of the truck carrying an anti-Congress m...</td>\n",
       "      <td>2021-03-11</td>\n",
       "      <td>Organization</td>\n",
       "      <td>FACTLY</td>\n",
       "      <td>https://factly.in/</td>\n",
       "      <td>Rating</td>\n",
       "      <td>FALSE</td>\n",
       "      <td>{'@type': 'DataFeedItem', 'dateCreated': '2021...</td>\n",
       "      <td>en</td>\n",
       "      <td>7</td>\n",
       "      <td>0.302993</td>\n",
       "    </tr>\n",
       "    <tr>\n",
       "      <th>4</th>\n",
       "      <td>Video shows Rahul Gandhi saying that Mahatma G...</td>\n",
       "      <td>2021-03-11</td>\n",
       "      <td>Organization</td>\n",
       "      <td>FACTLY</td>\n",
       "      <td>https://factly.in/</td>\n",
       "      <td>Rating</td>\n",
       "      <td>MISLEADING</td>\n",
       "      <td>{'@type': 'DataFeedItem', 'dateCreated': '2021...</td>\n",
       "      <td>en</td>\n",
       "      <td>7</td>\n",
       "      <td>0.279747</td>\n",
       "    </tr>\n",
       "  </tbody>\n",
       "</table>\n",
       "</div>"
      ],
      "text/plain": [
       "                                                text        date  \\\n",
       "0       Valenzuela City is part of Bulacan province.  2021-03-12   \n",
       "1  Returning overseas Filipino workers (OFWs) and...  2021-03-12   \n",
       "2  A photo shows a vehicle driving through war-to...  2021-03-12   \n",
       "3  Photo of the truck carrying an anti-Congress m...  2021-03-11   \n",
       "4  Video shows Rahul Gandhi saying that Mahatma G...  2021-03-11   \n",
       "\n",
       "    author_type      author                     url rating_type      rating  \\\n",
       "0  Organization  Vera Files  https://verafiles.org/      Rating       False   \n",
       "1  Organization  Vera Files  https://verafiles.org/      Rating  Misleading   \n",
       "2  Organization  Vera Files  https://verafiles.org/      Rating       False   \n",
       "3  Organization      FACTLY      https://factly.in/      Rating       FALSE   \n",
       "4  Organization      FACTLY      https://factly.in/      Rating  MISLEADING   \n",
       "\n",
       "                                     dataFeedElement language  Dominant_Topic  \\\n",
       "0  {'@type': 'DataFeedItem', 'dateCreated': '2021...       en               1   \n",
       "1  {'@type': 'DataFeedItem', 'dateCreated': '2021...       en               3   \n",
       "2  {'@type': 'DataFeedItem', 'dateCreated': '2021...       en               7   \n",
       "3  {'@type': 'DataFeedItem', 'dateCreated': '2021...       en               7   \n",
       "4  {'@type': 'DataFeedItem', 'dateCreated': '2021...       en               7   \n",
       "\n",
       "   Topic_Perception  \n",
       "0          0.398782  \n",
       "1          0.485245  \n",
       "2          0.299072  \n",
       "3          0.302993  \n",
       "4          0.279747  "
      ]
     },
     "execution_count": 24,
     "metadata": {},
     "output_type": "execute_result"
    }
   ],
   "source": [
    "# Get topics for each row\n",
    "\n",
    "Dominant_Topic = []\n",
    "Perc_Contribution = []\n",
    "\n",
    "for i in corpus:\n",
    "    temp = sorted(lda_model[i][0], reverse=True, key=lambda x: x[1])[0]\n",
    "    Dominant_Topic.append(temp[0])\n",
    "    Perc_Contribution.append(temp[1])\n",
    "\n",
    "new_df = en_news.assign(Dominant_Topic=Dominant_Topic,Topic_Perception = Perc_Contribution)\n",
    "new_df.head()"
   ]
  },
  {
   "cell_type": "markdown",
   "metadata": {},
   "source": [
    "# Export File"
   ]
  },
  {
   "cell_type": "code",
   "execution_count": 33,
   "metadata": {},
   "outputs": [],
   "source": [
    "exportpath = \"C:\\\\Users\\\\gyiko\\\\OneDrive - personalmicrosoftsoftware.uci.edu\\\\STATS\\\\STATS 170AB\\\\Project\\\\datasets\\\\\""
   ]
  },
  {
   "cell_type": "code",
   "execution_count": 34,
   "metadata": {},
   "outputs": [],
   "source": [
    "# Export Fact Check Data\n",
    "json_name = \"FactCheckData_with_Topic.json\"\n",
    "new_df.to_json(exportpath + json_name)"
   ]
  },
  {
   "cell_type": "code",
   "execution_count": null,
   "metadata": {},
   "outputs": [],
   "source": [
    "# Export Reddit Comment Data\n",
    "csv_name = \"RedditData_with_Topic.csv\"\n",
    "new_df.to_csv(exportpath + csv_name)"
   ]
  }
 ],
 "metadata": {
  "kernelspec": {
   "display_name": "Python 3",
   "language": "python",
   "name": "python3"
  },
  "language_info": {
   "codemirror_mode": {
    "name": "ipython",
    "version": 3
   },
   "file_extension": ".py",
   "mimetype": "text/x-python",
   "name": "python",
   "nbconvert_exporter": "python",
   "pygments_lexer": "ipython3",
   "version": "3.7.6"
  }
 },
 "nbformat": 4,
 "nbformat_minor": 4
}
