{
 "cells": [
  {
   "cell_type": "code",
   "execution_count": 1,
   "metadata": {},
   "outputs": [],
   "source": [
    "import pandas as pd\n",
    "import re"
   ]
  },
  {
   "cell_type": "markdown",
   "metadata": {},
   "source": [
    "# Import Data"
   ]
  },
  {
   "cell_type": "markdown",
   "metadata": {},
   "source": [
    "## Fact Check Data"
   ]
  },
  {
   "cell_type": "code",
   "execution_count": 14,
   "metadata": {},
   "outputs": [],
   "source": [
    "fakenews = pd.read_json(\"C:\\\\Users\\\\gyiko\\\\OneDrive - personalmicrosoftsoftware.uci.edu\\\\STATS\\\\STATS 170AB\\\\Project\\\\datasets\\\\factcheck\\\\FactCheckData_clean_mini.json\")"
   ]
  },
  {
   "cell_type": "code",
   "execution_count": 15,
   "metadata": {},
   "outputs": [],
   "source": [
    "en_news = fakenews[fakenews['language']=='en'].reset_index(drop=True)"
   ]
  },
  {
   "cell_type": "code",
   "execution_count": 16,
   "metadata": {},
   "outputs": [],
   "source": [
    "en_news = en_news.drop(columns=['author_type','url','rating_type','rating','dataFeedElement','language'])"
   ]
  },
  {
   "cell_type": "code",
   "execution_count": 31,
   "metadata": {},
   "outputs": [
    {
     "data": {
      "text/plain": [
       "3918"
      ]
     },
     "execution_count": 31,
     "metadata": {},
     "output_type": "execute_result"
    }
   ],
   "source": [
    "len(en_news)"
   ]
  },
  {
   "cell_type": "markdown",
   "metadata": {},
   "source": [
    "## Reddit Comments Data"
   ]
  },
  {
   "cell_type": "code",
   "execution_count": 6,
   "metadata": {},
   "outputs": [],
   "source": [
    "reddit_data = pd.read_json(\"C:\\\\Users\\\\gyiko\\\\OneDrive - personalmicrosoftsoftware.uci.edu\\\\STATS\\\\STATS 170AB\\\\Project\\\\datasets\\\\fake_news_reddit_cikm20.json\")"
   ]
  },
  {
   "cell_type": "code",
   "execution_count": 7,
   "metadata": {},
   "outputs": [],
   "source": [
    "df = reddit_data.drop(columns=['label','reddit_comments','researched_by','url'])"
   ]
  },
  {
   "cell_type": "code",
   "execution_count": 8,
   "metadata": {},
   "outputs": [
    {
     "data": {
      "text/plain": [
       "69396"
      ]
     },
     "execution_count": 8,
     "metadata": {},
     "output_type": "execute_result"
    }
   ],
   "source": [
    "len(reddit_data.text.values.tolist())"
   ]
  },
  {
   "cell_type": "markdown",
   "metadata": {},
   "source": [
    "# Tokenization"
   ]
  },
  {
   "cell_type": "code",
   "execution_count": 18,
   "metadata": {},
   "outputs": [],
   "source": [
    "import sys\n",
    "# !{sys.executable} -m spacy download en\n",
    "import re, numpy as np, pandas as pd\n",
    "from pprint import pprint\n",
    "\n",
    "# Gensim\n",
    "import gensim, spacy, logging, warnings\n",
    "import gensim.corpora as corpora\n",
    "from gensim.utils import simple_preprocess\n",
    "from gensim.models import CoherenceModel\n",
    "import matplotlib.pyplot as plt\n",
    "\n",
    "# NLTK Stop words\n",
    "from nltk.corpus import stopwords\n",
    "stop_words = stopwords.words('english')\n",
    "stop_words.extend(['from', 'subject', 're', 'edu', 'use', 'not', 'would', 'say', 'claim', 'http', 'could', '_', 'be', 'know', 'good', 'go', 'get', 'do', 'done', 'try', 'many', 'some', 'nice', 'thank', 'think', 'see', 'rather', 'easy', 'easily', 'lot', 'lack', 'make', 'want', 'seem', 'run', 'need', 'even', 'right', 'line', 'even', 'also', 'may', 'take', 'come'])\n",
    "\n",
    "%matplotlib inline\n",
    "warnings.filterwarnings(\"ignore\",category=DeprecationWarning)\n",
    "logging.basicConfig(format='%(asctime)s : %(levelname)s : %(message)s', level=logging.ERROR)"
   ]
  },
  {
   "cell_type": "code",
   "execution_count": 19,
   "metadata": {},
   "outputs": [],
   "source": [
    "def sent_to_words(sentences):\n",
    "    for sent in sentences:\n",
    "        sent = re.sub('\\S*@\\S*\\s?', '', sent)  # remove emails\n",
    "        sent = re.sub('\\s+', ' ', sent)  # remove newline chars\n",
    "        sent = re.sub(\"\\'\", \"\", sent)  # remove single quotes\n",
    "        sent = gensim.utils.simple_preprocess(str(sent), deacc=True) \n",
    "        yield(sent)  \n",
    "\n",
    "# Convert to list\n",
    "data = en_news.text.values.tolist()\n",
    "data_words = list(sent_to_words(data))"
   ]
  },
  {
   "cell_type": "markdown",
   "metadata": {},
   "source": [
    "## POS"
   ]
  },
  {
   "cell_type": "code",
   "execution_count": 20,
   "metadata": {},
   "outputs": [],
   "source": [
    "from gensim.utils import simple_preprocess\n",
    "import spacy\n",
    "\n",
    "# Build the bigram and trigram models\n",
    "bigram = gensim.models.Phrases(data_words, min_count=5, threshold=100) # higher threshold fewer phrases.\n",
    "trigram = gensim.models.Phrases(bigram[data_words], threshold=100)  \n",
    "bigram_mod = gensim.models.phrases.Phraser(bigram)\n",
    "trigram_mod = gensim.models.phrases.Phraser(trigram)\n",
    "\n",
    "# !python3 -m spacy download en_core_web_sm  # run in terminal once\n",
    "def process_words(texts, stop_words=stop_words, allowed_postags=['NOUN', 'ADJ', 'VERB', 'ADV']):\n",
    "    \"\"\"Remove Stopwords, Form Bigrams, Trigrams and Lemmatization\"\"\"\n",
    "    texts = [[word for word in simple_preprocess(str(doc)) if word not in stop_words] for doc in texts]\n",
    "    texts = [bigram_mod[doc] for doc in texts]\n",
    "    texts = [trigram_mod[bigram_mod[doc]] for doc in texts]\n",
    "    texts_out = []\n",
    "    nlp = spacy.load('en_core_web_sm', disable=['parser', 'ner'])\n",
    "    for sent in texts:\n",
    "        doc = nlp(\" \".join(sent)) \n",
    "        texts_out.append([token.lemma_ for token in doc if token.pos_ in allowed_postags])\n",
    "    # remove stopwords once more after lemmatization\n",
    "    texts_out = [[word for word in simple_preprocess(str(doc)) if word not in stop_words] for doc in texts_out]    \n",
    "    return texts_out\n",
    "\n",
    "data_ready = process_words(data_words)"
   ]
  },
  {
   "cell_type": "code",
   "execution_count": null,
   "metadata": {},
   "outputs": [],
   "source": [
    "data_ready[0]"
   ]
  },
  {
   "cell_type": "markdown",
   "metadata": {},
   "source": [
    "# LDA"
   ]
  },
  {
   "cell_type": "code",
   "execution_count": 21,
   "metadata": {},
   "outputs": [],
   "source": [
    "import gensim\n",
    "import gensim.corpora as corpora"
   ]
  },
  {
   "cell_type": "code",
   "execution_count": 22,
   "metadata": {
    "scrolled": true
   },
   "outputs": [],
   "source": [
    "# Create Dictionary\n",
    "id2word = corpora.Dictionary(data_ready)\n",
    "\n",
    "# Term Document Frequency\n",
    "corpus = [id2word.doc2bow(text) for text in data_ready]"
   ]
  },
  {
   "cell_type": "code",
   "execution_count": 39,
   "metadata": {},
   "outputs": [],
   "source": [
    "num_topics = 9\n",
    "\n",
    "# Build LDA model\n",
    "lda_model = gensim.models.ldamodel.LdaModel(corpus=corpus,\n",
    "                                           id2word=id2word,\n",
    "                                           num_topics=num_topics, \n",
    "                                           random_state=100,\n",
    "                                           update_every=1,\n",
    "                                           chunksize=10,\n",
    "                                           passes=10,\n",
    "                                           alpha='symmetric',\n",
    "                                           iterations=100,\n",
    "                                           per_word_topics=True)"
   ]
  },
  {
   "cell_type": "code",
   "execution_count": 40,
   "metadata": {},
   "outputs": [
    {
     "data": {
      "text/plain": [
       "[(0,\n",
       "  '0.039*\"people\" + 0.023*\"hotel\" + 0.022*\"fire\" + 0.021*\"new\" + 0.017*\"mp\" + 0.016*\"china\" + 0.016*\"minister\" + 0.015*\"die\" + 0.014*\"body\" + 0.014*\"dead\"'),\n",
       " (1,\n",
       "  '0.032*\"child\" + 0.030*\"work\" + 0.029*\"delhi\" + 0.027*\"tamil_nadu\" + 0.027*\"baby\" + 0.023*\"arrest\" + 0.021*\"help\" + 0.021*\"comment\" + 0.020*\"burn\" + 0.018*\"ireland\"'),\n",
       " (2,\n",
       "  '0.060*\"india\" + 0.040*\"temple\" + 0.029*\"give\" + 0.024*\"country\" + 0.016*\"party\" + 0.016*\"railway_station\" + 0.015*\"ever\" + 0.014*\"demolish\" + 0.013*\"fact\" + 0.013*\"place\"'),\n",
       " (3,\n",
       "  '0.035*\"show\" + 0.031*\"support\" + 0.027*\"viral\" + 0.026*\"raja\" + 0.025*\"photo\" + 0.024*\"officer\" + 0.022*\"high\" + 0.021*\"case\" + 0.020*\"accuse\" + 0.019*\"government\"'),\n",
       " (4,\n",
       "  '0.029*\"day\" + 0.027*\"hindu\" + 0.027*\"put\" + 0.026*\"recent\" + 0.026*\"law\" + 0.023*\"ukraine\" + 0.022*\"pakistan\" + 0.018*\"rally\" + 0.017*\"hold\" + 0.016*\"ayodhya\"'),\n",
       " (5,\n",
       "  '0.114*\"student\" + 0.026*\"ramadoss\" + 0.020*\"vehicle\" + 0.019*\"university\" + 0.018*\"political\" + 0.016*\"criminal\" + 0.015*\"criticize\" + 0.013*\"affect\" + 0.013*\"birth\" + 0.012*\"life\"'),\n",
       " (6,\n",
       "  '0.105*\"jnu\" + 0.068*\"year\" + 0.047*\"fee\" + 0.032*\"name\" + 0.027*\"pay\" + 0.023*\"kill\" + 0.022*\"hostel\" + 0.021*\"hike\" + 0.018*\"american\" + 0.013*\"never\"'),\n",
       " (7,\n",
       "  '0.061*\"police\" + 0.045*\"protest\" + 0.039*\"image\" + 0.035*\"woman\" + 0.033*\"muslim\" + 0.029*\"video\" + 0.024*\"find\" + 0.023*\"picture\" + 0.020*\"president\" + 0.018*\"rape\"'),\n",
       " (8,\n",
       "  '0.024*\"change\" + 0.022*\"australia\" + 0.021*\"school\" + 0.020*\"back\" + 0.018*\"invent\" + 0.017*\"offer\" + 0.017*\"youth\" + 0.015*\"leader\" + 0.014*\"public\" + 0.014*\"celebrate\"')]"
      ]
     },
     "execution_count": 40,
     "metadata": {},
     "output_type": "execute_result"
    }
   ],
   "source": [
    "lda_model.print_topics()"
   ]
  },
  {
   "cell_type": "markdown",
   "metadata": {},
   "source": [
    "# Visualization"
   ]
  },
  {
   "cell_type": "code",
   "execution_count": 64,
   "metadata": {},
   "outputs": [
    {
     "data": {
      "image/png": "[encoded data removed]",
      "text/plain": [
       "<Figure size 792x792 with 9 Axes>"
      ]
     },
     "metadata": {
      "needs_background": "light"
     },
     "output_type": "display_data"
    }
   ],
   "source": [
    "from matplotlib import pyplot as plt\n",
    "from wordcloud import WordCloud, STOPWORDS\n",
    "import matplotlib.colors as mcolors\n",
    "\n",
    "cols = [color for name, color in mcolors.TABLEAU_COLORS.items()]  # more colors: 'mcolors.XKCD_COLORS'\n",
    "\n",
    "cloud = WordCloud(stopwords=stop_words,\n",
    "                  background_color='white',\n",
    "                  width=2500,\n",
    "                  height=1800,\n",
    "                  max_words=15,\n",
    "                  colormap='tab10',\n",
    "                  color_func=lambda *args, **kwargs: cols[i],\n",
    "                  prefer_horizontal=1.0)\n",
    "\n",
    "topics = lda_model.show_topics(formatted=False)\n",
    "\n",
    "fig, axes = plt.subplots(3, 3, figsize=(11,11), sharex=True, sharey=True)\n",
    "\n",
    "for i, ax in enumerate(axes.flatten()):\n",
    "    fig.add_subplot(ax)\n",
    "    topic_words = dict(topics[i][1])\n",
    "    cloud.generate_from_frequencies(topic_words, max_font_size=300)\n",
    "    plt.gca().imshow(cloud)\n",
    "    plt.gca().set_title('Topic ' + str(i), fontdict=dict(size=16))\n",
    "    plt.gca().axis('off')\n",
    "\n",
    "plt.subplots_adjust(wspace=0, hspace=0)\n",
    "plt.axis('off')\n",
    "plt.margins(x=0, y=0)\n",
    "plt.suptitle('Wordcloud of Top 10 words in Each Topic',size=28)\n",
    "plt.show()"
   ]
  },
  {
   "cell_type": "markdown",
   "metadata": {},
   "source": [
    "# Topic Assignment"
   ]
  },
  {
   "cell_type": "code",
   "execution_count": 60,
   "metadata": {},
   "outputs": [
    {
     "data": {
      "text/html": [
       "<div>\n",
       "<style scoped>\n",
       "    .dataframe tbody tr th:only-of-type {\n",
       "        vertical-align: middle;\n",
       "    }\n",
       "\n",
       "    .dataframe tbody tr th {\n",
       "        vertical-align: top;\n",
       "    }\n",
       "\n",
       "    .dataframe thead th {\n",
       "        text-align: right;\n",
       "    }\n",
       "</style>\n",
       "<table border=\"1\" class=\"dataframe\">\n",
       "  <thead>\n",
       "    <tr style=\"text-align: right;\">\n",
       "      <th></th>\n",
       "      <th>text</th>\n",
       "      <th>date</th>\n",
       "      <th>author</th>\n",
       "      <th>Dominant_Topic</th>\n",
       "      <th>Topic_Perception</th>\n",
       "    </tr>\n",
       "  </thead>\n",
       "  <tbody>\n",
       "    <tr>\n",
       "      <th>0</th>\n",
       "      <td>Valenzuela City is part of Bulacan province.</td>\n",
       "      <td>2021-03-12</td>\n",
       "      <td>Vera Files</td>\n",
       "      <td>1</td>\n",
       "      <td>0.408697</td>\n",
       "    </tr>\n",
       "    <tr>\n",
       "      <th>1</th>\n",
       "      <td>Returning overseas Filipino workers (OFWs) and...</td>\n",
       "      <td>2021-03-12</td>\n",
       "      <td>Vera Files</td>\n",
       "      <td>0</td>\n",
       "      <td>0.480617</td>\n",
       "    </tr>\n",
       "    <tr>\n",
       "      <th>2</th>\n",
       "      <td>A photo shows a vehicle driving through war-to...</td>\n",
       "      <td>2021-03-12</td>\n",
       "      <td>Vera Files</td>\n",
       "      <td>3</td>\n",
       "      <td>0.448670</td>\n",
       "    </tr>\n",
       "    <tr>\n",
       "      <th>3</th>\n",
       "      <td>Photo of the truck carrying an anti-Congress m...</td>\n",
       "      <td>2021-03-11</td>\n",
       "      <td>FACTLY</td>\n",
       "      <td>7</td>\n",
       "      <td>0.440980</td>\n",
       "    </tr>\n",
       "    <tr>\n",
       "      <th>4</th>\n",
       "      <td>Video shows Rahul Gandhi saying that Mahatma G...</td>\n",
       "      <td>2021-03-11</td>\n",
       "      <td>FACTLY</td>\n",
       "      <td>3</td>\n",
       "      <td>0.351971</td>\n",
       "    </tr>\n",
       "    <tr>\n",
       "      <th>...</th>\n",
       "      <td>...</td>\n",
       "      <td>...</td>\n",
       "      <td>...</td>\n",
       "      <td>...</td>\n",
       "      <td>...</td>\n",
       "    </tr>\n",
       "    <tr>\n",
       "      <th>3913</th>\n",
       "      <td>DUP MPs voted against a pay rise for nurses, f...</td>\n",
       "      <td>2019-11-15</td>\n",
       "      <td>Fact Check NI</td>\n",
       "      <td>3</td>\n",
       "      <td>0.373773</td>\n",
       "    </tr>\n",
       "    <tr>\n",
       "      <th>3914</th>\n",
       "      <td>“My name itself is a problem, Vappichi” : IIT ...</td>\n",
       "      <td>2019-11-15</td>\n",
       "      <td>The South Asian Express</td>\n",
       "      <td>5</td>\n",
       "      <td>0.649576</td>\n",
       "    </tr>\n",
       "    <tr>\n",
       "      <th>3915</th>\n",
       "      <td>Claim cops manhandling woman over traffic chal...</td>\n",
       "      <td>2019-11-14</td>\n",
       "      <td>Fact Crescendo</td>\n",
       "      <td>7</td>\n",
       "      <td>0.872981</td>\n",
       "    </tr>\n",
       "    <tr>\n",
       "      <th>3916</th>\n",
       "      <td>Claim Bhagavad Gita made compulsory for Dutch ...</td>\n",
       "      <td>2019-11-14</td>\n",
       "      <td>Fact Crescendo</td>\n",
       "      <td>8</td>\n",
       "      <td>0.351079</td>\n",
       "    </tr>\n",
       "    <tr>\n",
       "      <th>3917</th>\n",
       "      <td>About 2% of pregnancy terminations take place ...</td>\n",
       "      <td>2019-11-15</td>\n",
       "      <td>Fact Check NI</td>\n",
       "      <td>2</td>\n",
       "      <td>0.469021</td>\n",
       "    </tr>\n",
       "  </tbody>\n",
       "</table>\n",
       "<p>3918 rows × 5 columns</p>\n",
       "</div>"
      ],
      "text/plain": [
       "                                                   text        date  \\\n",
       "0          Valenzuela City is part of Bulacan province.  2021-03-12   \n",
       "1     Returning overseas Filipino workers (OFWs) and...  2021-03-12   \n",
       "2     A photo shows a vehicle driving through war-to...  2021-03-12   \n",
       "3     Photo of the truck carrying an anti-Congress m...  2021-03-11   \n",
       "4     Video shows Rahul Gandhi saying that Mahatma G...  2021-03-11   \n",
       "...                                                 ...         ...   \n",
       "3913  DUP MPs voted against a pay rise for nurses, f...  2019-11-15   \n",
       "3914  “My name itself is a problem, Vappichi” : IIT ...  2019-11-15   \n",
       "3915  Claim cops manhandling woman over traffic chal...  2019-11-14   \n",
       "3916  Claim Bhagavad Gita made compulsory for Dutch ...  2019-11-14   \n",
       "3917  About 2% of pregnancy terminations take place ...  2019-11-15   \n",
       "\n",
       "                       author  Dominant_Topic  Topic_Perception  \n",
       "0                  Vera Files               1          0.408697  \n",
       "1                  Vera Files               0          0.480617  \n",
       "2                  Vera Files               3          0.448670  \n",
       "3                      FACTLY               7          0.440980  \n",
       "4                      FACTLY               3          0.351971  \n",
       "...                       ...             ...               ...  \n",
       "3913            Fact Check NI               3          0.373773  \n",
       "3914  The South Asian Express               5          0.649576  \n",
       "3915           Fact Crescendo               7          0.872981  \n",
       "3916           Fact Crescendo               8          0.351079  \n",
       "3917            Fact Check NI               2          0.469021  \n",
       "\n",
       "[3918 rows x 5 columns]"
      ]
     },
     "execution_count": 60,
     "metadata": {},
     "output_type": "execute_result"
    }
   ],
   "source": [
    "# Get topics for each row\n",
    "\n",
    "Dominant_Topic = []\n",
    "Perc_Contribution = []\n",
    "\n",
    "\n",
    "\n",
    "for i in corpus:\n",
    "    temp = sorted(lda_model[i][0], reverse=True, key=lambda x: x[1])[0]\n",
    "    Dominant_Topic.append(temp[0])\n",
    "    Perc_Contribution.append(temp[1])\n",
    "\n",
    "en_news.assign(Dominant_Topic=Dominant_Topic,Topic_Perception = Perc_Contribution)"
   ]
  }
 ],
 "metadata": {
  "kernelspec": {
   "display_name": "Python 3",
   "language": "python",
   "name": "python3"
  },
  "language_info": {
   "codemirror_mode": {
    "name": "ipython",
    "version": 3
   },
   "file_extension": ".py",
   "mimetype": "text/x-python",
   "name": "python",
   "nbconvert_exporter": "python",
   "pygments_lexer": "ipython3",
   "version": "3.7.6"
  }
 },
 "nbformat": 4,
 "nbformat_minor": 4
}
